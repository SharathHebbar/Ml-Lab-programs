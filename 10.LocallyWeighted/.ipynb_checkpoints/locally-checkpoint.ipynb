{
 "cells": [
  {
   "cell_type": "code",
   "execution_count": 13,
   "id": "24ddb051",
   "metadata": {},
   "outputs": [
    {
     "name": "stdout",
     "output_type": "stream",
     "text": [
      "(244,)\n",
      "(1, 244)\n"
     ]
    },
    {
     "data": {
      "image/png": "[encoded data removed]",
      "text/plain": [
       "<Figure size 432x288 with 1 Axes>"
      ]
     },
     "metadata": {
      "needs_background": "light"
     },
     "output_type": "display_data"
    }
   ],
   "source": [
    "import matplotlib.pyplot as plt \n",
    "import pandas as pd\n",
    "import numpy as np\n",
    "\n",
    "def kernel(point,xmat, k): \n",
    "    m,n = np.shape(xmat)\n",
    "    weights = np.mat(np.eye((m)))\n",
    "    for j in range(m):\n",
    "        diff = point - X[j]\n",
    "        weights[j,j] = np.exp(diff*diff.T/(-2.0*k**2)) \n",
    "    return weights\n",
    "\n",
    "def localWeight(point,xmat,ymat,k): \n",
    "    wei = kernel(point,xmat,k)\n",
    "    W = (X.T*(wei*X)).I*(X.T*(wei*ymat.T)) \n",
    "    \n",
    "    return W\n",
    "\n",
    "def localWeightRegression(xmat,ymat,k): \n",
    "    m,n = np.shape(xmat)\n",
    "    ypred = np.zeros(m) \n",
    "    for i in range(m):\n",
    "        ypred[i] = xmat[i]*localWeight(xmat[i],xmat,ymat,k) \n",
    "    return ypred\n",
    "\n",
    "def graphPlot(X,ypred):\n",
    "    sortindex = X[:,1].argsort(axis = 0) #argsort - index of the smallest \n",
    "    xsort = X[sortindex][:,0]\n",
    "    fig = plt.figure()\n",
    "    ax = fig.add_subplot(1,1,1) \n",
    "    ax.scatter(bill,tip, color='blue')\n",
    "    ax.plot(xsort[:,1],ypred[sortindex], color = 'red', linewidth=10) \n",
    "    plt.xlabel('Total bill')\n",
    "    plt.ylabel('Tip') \n",
    "    plt.show();\n",
    "\n",
    "data = pd.read_csv('data10_tips.csv')\n",
    "bill = np.array(data.total_bill) \n",
    "tip = np.array(data.tip)\n",
    "\n",
    "#print(bill.shape)\n",
    "\n",
    "mbill = np.mat(bill) \n",
    "mtip = np.mat(tip)\n",
    "\n",
    "m= np.shape(mbill)[1] \n",
    "\n",
    "#print(np.shape(mbill))\n",
    "\n",
    "one = np.mat(np.ones(m))\n",
    "X = np.hstack((one.T,mbill.T)) \n",
    "\n",
    "#print(X)\n",
    "\n",
    "ypred = localWeightRegression(X,mtip,2) \n",
    "\n",
    "#print(ypred)\n",
    "\n",
    "graphPlot(X,ypred)\n",
    "\n"
   ]
  },
  {
   "cell_type": "code",
   "execution_count": null,
   "id": "49c56da8",
   "metadata": {},
   "outputs": [],
   "source": []
  },
  {
   "cell_type": "code",
   "execution_count": null,
   "id": "78c6bf71",
   "metadata": {},
   "outputs": [],
   "source": []
  }
 ],
 "metadata": {
  "kernelspec": {
   "display_name": "Python 3 (ipykernel)",
   "language": "python",
   "name": "python3"
  },
  "language_info": {
   "codemirror_mode": {
    "name": "ipython",
    "version": 3
   },
   "file_extension": ".py",
   "mimetype": "text/x-python",
   "name": "python",
   "nbconvert_exporter": "python",
   "pygments_lexer": "ipython3",
   "version": "3.9.6"
  }
 },
 "nbformat": 4,
 "nbformat_minor": 5
}
