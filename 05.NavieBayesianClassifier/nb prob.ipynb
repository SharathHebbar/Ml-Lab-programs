{
 "cells": [
  {
   "cell_type": "code",
   "execution_count": 11,
   "id": "f84b9886",
   "metadata": {},
   "outputs": [
    {
     "name": "stdout",
     "output_type": "stream",
     "text": [
      "{'yes': 1}\n",
      "{'yes': 1, 'no': 1}\n",
      "{'yes': 2, 'no': 1}\n",
      "{'yes': 2, 'no': 2}\n",
      "{'yes': 3, 'no': 2}\n",
      "{'yes': 3, 'no': 3}\n",
      "{'yes': 4, 'no': 3}\n",
      "{'yes': 4, 'no': 4}\n",
      "{'yes': 4, 'no': 5}\n",
      "{'yes': 5, 'no': 5}\n",
      "{'yes': 0.5, 'no': 5}\n",
      "{'yes': 0.5, 'no': 0.5}\n",
      "('no', 0.072)\n"
     ]
    }
   ],
   "source": [
    "import numpy as np\n",
    "import pandas as pd\n",
    "def NBClassify(data,new_instance):\n",
    "  class_prob={} #dictionary to store probablity of each target class\n",
    "  n=len(data)\n",
    "  lastcol=[row[-1] for row in data]\n",
    "  for key in lastcol:\n",
    "    class_prob[key]=class_prob.get(key,0)+1\n",
    "    print(class_prob)\n",
    "  for key in class_prob:\n",
    "    class_prob[key]=class_prob[key]/n\n",
    "    print(class_prob)\n",
    "  class_data={}\n",
    "  for key in class_prob.keys():\n",
    "    class_data[key]=[]\n",
    "  for i in range(n):\n",
    "    key=lastcol[i]\n",
    "    class_data[key].append(data[i])\n",
    "   # print(class_data)\n",
    "  max_p=0\n",
    "  max_class=''\n",
    "  for key in class_data.keys():\n",
    "    prob=predict(class_data[key],class_prob[key],new_instance)\n",
    "    \n",
    "    if prob>max_p:\n",
    "      max_p=prob\n",
    "      max_class=key\n",
    "  \n",
    "  return max_class,max_p\n",
    "\n",
    "def predict(class_data,class_prob,new_instance):\n",
    "  ans=class_prob\n",
    "  for i in range(len(new_instance)):\n",
    "    col_data=[row[i] for row in class_data]\n",
    "    ans=ans*col_prob(col_data,new_instance[i])\n",
    "  return ans\n",
    "def col_prob(col_data,x):\n",
    "  n=len(col_data)\n",
    "  cnt=0\n",
    "  for ele in col_data:\n",
    "    if x==ele:\n",
    "      cnt+=1\n",
    "  return cnt/n\n",
    "\n",
    "### main program###\n",
    "df=pd.read_csv('sd.csv')\n",
    "arr=np.array(df)\n",
    "print(NBClassify(arr,['red','SUV','domestic']))"
   ]
  },
  {
   "cell_type": "code",
   "execution_count": 14,
   "id": "680ad8a9",
   "metadata": {},
   "outputs": [
    {
     "name": "stdout",
     "output_type": "stream",
     "text": [
      "10 4\n",
      "The shape of the given dataset (10, 4)\n",
      "['redyes', 'SUVyes', 'domesticyes', 'redno', 'SUVno', 'domesticno']\n",
      "0.036 0.072\n",
      "(0.072, 'no')\n"
     ]
    }
   ],
   "source": []
  },
  {
   "cell_type": "raw",
   "id": "0028a7e8",
   "metadata": {},
   "source": [
    "p(yes)\n",
    "p(no)\n",
    "\n",
    "p(red/yes)p(red/no)\n",
    "p(yellow/yes)p(yellow/no)\n",
    "\n",
    "p(suv/y) p(suv/n)\n",
    "p(sport/y) p(sport/n)\n",
    "\n",
    "p(d/y) p(d/n)\n",
    "p(i/y) p(i/n)"
   ]
  },
  {
   "cell_type": "code",
   "execution_count": 62,
   "id": "4e2da506",
   "metadata": {},
   "outputs": [
    {
     "name": "stdout",
     "output_type": "stream",
     "text": [
      "10 4\n",
      "The shape of the given dataset (10, 4)\n",
      "Accuracy:  0.6\n"
     ]
    }
   ],
   "source": [
    "import numpy as np\n",
    "import pandas as pd\n",
    "\n",
    "df = pd.read_csv('sd.csv')\n",
    "row,col = df.shape\n",
    "print(row,col)\n",
    "print(\"The shape of the given dataset\",df.shape)\n",
    "def prior_prob(data):\n",
    "    data = np.array(data)\n",
    "    targets=[]\n",
    "        \n",
    "    for i in data:\n",
    "        if i[-1] not in targets:\n",
    "            targets.append(i[-1])\n",
    "   \n",
    "    n =len(targets)\n",
    "    prob = [0]*n\n",
    "    \n",
    "    for i in data:\n",
    "        for k in range(n):\n",
    "            if i[-1] == targets[k]:\n",
    "                prob[k]+=1\n",
    "    \n",
    "    p = prob.copy()\n",
    "    for i in range(n):\n",
    "        p[i]/=row\n",
    "\n",
    "    return prob,p,targets\n",
    "    \n",
    "    \n",
    "def conditional_prob(data,p,n,t):\n",
    "    data = np.array(data)\n",
    "    cond = []\n",
    "    feat=[]\n",
    "   \n",
    "    for i in range(col-1):\n",
    "        f = []\n",
    "        for j in range(row):\n",
    "            if data[j][i] not in f:\n",
    "                f.append(data[j][i])\n",
    "        feat.append(f)\n",
    "   \n",
    "    featprob = {}\n",
    "    m = len(feat)\n",
    "    for i in feat:\n",
    "        for j in i:\n",
    "            featprob[j] = ([0]*len(t))\n",
    "    for j in range(len(t)):\n",
    "        for i in range(row):\n",
    "            if data[i][-1] == t[j]:\n",
    "                for k in range(col-1):\n",
    "                    featprob[data[i][k]][j] +=1 \n",
    "            \n",
    "    for j in range(len(t)):\n",
    "        for x in featprob:\n",
    "            featprob[x][j] /=n[j] \n",
    "                \n",
    "\n",
    "    return(featprob)\n",
    "\n",
    "def classify(data,c,t,p):\n",
    "    data = np.array(data)\n",
    "    a,b = data.shape\n",
    "    \n",
    "    pred = {}\n",
    "    outcomes=[]\n",
    "    for i in t:\n",
    "        pred[i] = 1.0\n",
    "    for i in range(a):\n",
    "        for k in range(len(t)):\n",
    "            for j in range(b):\n",
    "                \n",
    "                pred[t[k]] *= c[data[i][j]][k]   \n",
    "                \n",
    "            pred[t[k]] *= p[k]\n",
    "        predict = ['',0]\n",
    "        s = 0\n",
    "        for x in pred:\n",
    "            if(pred[x] > s):\n",
    "                s = pred[x]\n",
    "                predict = [x,pred[x]]\n",
    "        outcomes.append(predict)\n",
    "    return outcomes\n",
    "\n",
    "def accuracy(data,new_instance,cond,targets,probability):\n",
    "    data = np.array(data)\n",
    "    o = classify(new_instance,cond,targets,probability)\n",
    "    c = 0\n",
    "    for i in range(row):\n",
    "        if data[i][-1] == o[i][0]:\n",
    "            c+=1\n",
    "    return c/row\n",
    "\n",
    "instances,probability,targets = prior_prob(df)\n",
    "cond = conditional_prob(df,probability,instances,targets)\n",
    "new_instance = pd.read_csv('sdtestpredict.csv')\n",
    "print(\"Accuracy: \",accuracy(df,new_instance,cond,targets,probability))\n"
   ]
  },
  {
   "cell_type": "code",
   "execution_count": 52,
   "id": "b3083ec4",
   "metadata": {},
   "outputs": [
    {
     "data": {
      "text/plain": [
       "[]"
      ]
     },
     "execution_count": 52,
     "metadata": {},
     "output_type": "execute_result"
    }
   ],
   "source": []
  }
 ],
 "metadata": {
  "kernelspec": {
   "display_name": "Python 3 (ipykernel)",
   "language": "python",
   "name": "python3"
  },
  "language_info": {
   "codemirror_mode": {
    "name": "ipython",
    "version": 3
   },
   "file_extension": ".py",
   "mimetype": "text/x-python",
   "name": "python",
   "nbconvert_exporter": "python",
   "pygments_lexer": "ipython3",
   "version": "3.9.6"
  }
 },
 "nbformat": 4,
 "nbformat_minor": 5
}
