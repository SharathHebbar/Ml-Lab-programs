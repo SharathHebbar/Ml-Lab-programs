{
 "cells": [
  {
   "cell_type": "code",
   "execution_count": 3,
   "id": "a1521df6",
   "metadata": {},
   "outputs": [
    {
     "name": "stdout",
     "output_type": "stream",
     "text": [
      "('', 0)\n"
     ]
    }
   ],
   "source": [
    "import numpy as np\n",
    "import pandas as pd\n",
    "def NBClassify(data,new_instance):\n",
    "  class_prob={} #dictionary to store probablity of each target class\n",
    "  n=len(data)\n",
    "  lastcol=[row[-1] for row in data]\n",
    "  for key in lastcol:\n",
    "    class_prob[key]=class_prob.get(key,0)+1\n",
    "  for key in class_prob:\n",
    "    class_prob[key]=class_prob[key]/n\n",
    "  class_data={}\n",
    "  for key in class_prob.keys():\n",
    "    class_data[key]=[]\n",
    "  for i in range(n):\n",
    "    key=lastcol[i]\n",
    "    class_data[key].append(data[i])\n",
    "  max_p=0\n",
    "  max_class=''\n",
    "  for key in class_data.keys():\n",
    "    prob=predict(class_data[key],class_prob[key],new_instance)\n",
    "    #print(key,prob)\n",
    "    if prob>max_p:\n",
    "      max_p=prob\n",
    "      max_class=key\n",
    "  \n",
    "  return max_class,max_p\n",
    "\n",
    "def predict(class_data,class_prob,new_instance):\n",
    "  ans=class_prob\n",
    "  for i in range(len(new_instance)):\n",
    "    col_data=[row[i] for row in class_data]\n",
    "    ans=ans*col_prob(col_data,new_instance[i])\n",
    "  return ans\n",
    "def col_prob(col_data,x):\n",
    "  n=len(col_data)\n",
    "  cnt=0\n",
    "  for ele in col_data:\n",
    "    if x==ele:\n",
    "      cnt+=1\n",
    "  return cnt/n\n",
    "\n",
    "### main program###\n",
    "df=pd.read_csv('diabetes.csv')\n",
    "arr=np.array(df)\n",
    "print(NBClassify(arr,['red','SUV','domestic']))"
   ]
  },
  {
   "cell_type": "code",
   "execution_count": 39,
   "id": "1ce0bc2e",
   "metadata": {},
   "outputs": [
    {
     "name": "stdout",
     "output_type": "stream",
     "text": [
      "The shape of the given dataset (10, 4)\n",
      "5 5\n"
     ]
    }
   ],
   "source": [
    "import numpy as np\n",
    "import pandas as pd\n",
    "\n",
    "#df = pd.read_csv('diabetes.csv', names=['f1','f2','f3','f4','f5','f6','f7','f8','target'])\n",
    "df = pd.read_csv('sd.csv')\n",
    "\n",
    "print(\"The shape of the given dataset\",df.shape)\n",
    "\n",
    "def prior_prob(data):\n",
    "    \n",
    "    data = np.array(data)\n",
    "    m = len(data)\n",
    "    p,n = 0,0\n",
    "    for i in range(m):\n",
    "        #print(data[i][-1])\n",
    "        if data[i][-1] == 'yes':\n",
    "            p+=1\n",
    "        else:\n",
    "            n+=1\n",
    "    return p,n\n",
    "def conditional_prob(data,p,n):\n",
    "    \n",
    "p,n = prior_prob(df)\n",
    "print(p,n)"
   ]
  },
  {
   "cell_type": "code",
   "execution_count": null,
   "id": "b2afc182",
   "metadata": {},
   "outputs": [],
   "source": []
  }
 ],
 "metadata": {
  "kernelspec": {
   "display_name": "Python 3 (ipykernel)",
   "language": "python",
   "name": "python3"
  },
  "language_info": {
   "codemirror_mode": {
    "name": "ipython",
    "version": 3
   },
   "file_extension": ".py",
   "mimetype": "text/x-python",
   "name": "python",
   "nbconvert_exporter": "python",
   "pygments_lexer": "ipython3",
   "version": "3.9.6"
  }
 },
 "nbformat": 4,
 "nbformat_minor": 5
}
