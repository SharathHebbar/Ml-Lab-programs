{
 "cells": [
  {
   "cell_type": "code",
   "execution_count": 3,
   "id": "5999ea16",
   "metadata": {},
   "outputs": [
    {
     "name": "stdout",
     "output_type": "stream",
     "text": [
      "['Sky', 'Temp', 'Humidity', 'Wind', 'Water', 'Forecast']\n",
      "[['sunny', 'warm', 'normal', 'strong', 'warm', 'same', 'Yes'], ['sunny', 'warm', 'high', 'strong', 'warm', 'same', 'Yes'], ['rainy', 'cold', 'high', 'strong', 'warm', 'change', 'No'], ['sunny', 'warm', 'high', 'strong', 'cool', 'change', 'Yes']]\n",
      "['Yes', 'Yes', 'No', 'Yes']\n",
      "['0', '0', '0', '0', '0', '0']\n",
      "The Hypothesis are\n",
      "4 = ['sunny', 'warm', '?', 'strong', '?', '?']\n",
      "Final Hypothesis\n",
      "['sunny', 'warm', '?', 'strong', '?', '?']\n"
     ]
    }
   ],
   "source": [
    "import csv\n",
    "def loadCsv(filename):\n",
    "    lines = csv.reader(open(filename, \"rt\"))\n",
    "    dataset = list(lines)\n",
    "    for i in range(len(dataset)):\n",
    "        dataset[i] = dataset[i]\n",
    "    return dataset\n",
    "attributes = ['Sky','Temp','Humidity','Wind','Water','Forecast']\n",
    "print(attributes)\n",
    "num_attributes = len(attributes)\n",
    "filename = \"enjoysport.csv\"\n",
    "dataset = loadCsv(filename)\n",
    "print(dataset)\n",
    "target=['Yes','Yes','No','Yes']\n",
    "print(target)\n",
    "hypothesis=['0'] * num_attributes\n",
    "print(hypothesis)\n",
    "print(\"The Hypothesis are\")\n",
    "for i in range(len(target)):\n",
    "    if(target[i] == 'Yes'):\n",
    "        for j in range(num_attributes):\n",
    "            if(hypothesis[j]=='0'):\n",
    "                    hypothesis[j] = dataset[i][j]\n",
    "            if(hypothesis[j]!= dataset[i][j]):\n",
    "                hypothesis[j]='?'\n",
    "\n",
    "print(i+1,'=',hypothesis)\n",
    "\n",
    "print(\"Final Hypothesis\")\n",
    "print(hypothesis)"
   ]
  },
  {
   "cell_type": "code",
   "execution_count": null,
   "id": "a013d5e5",
   "metadata": {},
   "outputs": [],
   "source": []
  }
 ],
 "metadata": {
  "kernelspec": {
   "display_name": "Python 3 (ipykernel)",
   "language": "python",
   "name": "python3"
  },
  "language_info": {
   "codemirror_mode": {
    "name": "ipython",
    "version": 3
   },
   "file_extension": ".py",
   "mimetype": "text/x-python",
   "name": "python",
   "nbconvert_exporter": "python",
   "pygments_lexer": "ipython3",
   "version": "3.9.6"
  }
 },
 "nbformat": 4,
 "nbformat_minor": 5
}
