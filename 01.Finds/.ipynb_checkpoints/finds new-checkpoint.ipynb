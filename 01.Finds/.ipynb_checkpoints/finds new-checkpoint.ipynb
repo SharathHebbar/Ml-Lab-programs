{
 "cells": [
  {
   "cell_type": "code",
   "execution_count": 12,
   "id": "c6b9bd1d",
   "metadata": {},
   "outputs": [
    {
     "name": "stdout",
     "output_type": "stream",
     "text": [
      "The initial hypothesis:  ['0', '0', '0', '0', '0', '0']\n",
      "\n",
      "Instance 1 is  ['Sunny' 'Warm' 'Normal' 'Strong' 'Warm' 'Same']\n",
      "Positive instance\n",
      "Specific hypothesis after  1 Instance is  ['Sunny' 'Warm' 'Normal' 'Strong' 'Warm' 'Same']\n",
      "\n",
      "Instance 2 is  ['Sunny' 'Warm' 'High' 'Strong' 'Warm' 'Same']\n",
      "Positive instance\n",
      "Specific hypothesis after  2 Instance is  ['Sunny' 'Warm' '?' 'Strong' 'Warm' 'Same']\n",
      "\n",
      "Instance 3 is  ['Rainy' 'Cold' 'High' 'Strong' 'Warm' 'Change']\n",
      "Negative instance\n",
      "Specific hypothesis after  3 Instance is  ['Sunny' 'Warm' '?' 'Strong' 'Warm' 'Same']\n",
      "\n",
      "Instance 4 is  ['Sunny' 'Warm' 'High' 'Strong' 'Cool' 'Change']\n",
      "Positive instance\n",
      "Specific hypothesis after  4 Instance is  ['Sunny' 'Warm' '?' 'Strong' '?' '?']\n",
      "\n",
      "The Maximally Specific hypothesis: ['Sunny' 'Warm' '?' 'Strong' '?' '?']\n"
     ]
    }
   ],
   "source": [
    "import numpy as np\n",
    "import pandas as pd\n",
    "data=pd.DataFrame(data=pd. read_csv('c1.csv'))\n",
    "concepts=np.array(data.iloc[:,0:-1])\n",
    "target=np.array(data.iloc[:,-1])\n",
    "\n",
    "specific_h=['0','0','0','0','0','0']\n",
    "print(\"The initial hypothesis: \",specific_h)\n",
    "\n",
    "specific_h=concepts[0].copy()\n",
    "\n",
    "for i,h in enumerate(concepts):\n",
    "    if target[i]==\"malignant\" or target[i]==\"Y\":\n",
    "        print(\"\\nInstance\", i+1 , \"is \", h)\n",
    "        print(\"Positive instance\")\n",
    "        \n",
    "        for x in range(len(specific_h)):\n",
    "            if h[x]!=specific_h[x]:\n",
    "                specific_h[x]='?'\n",
    "        \n",
    "    else:\n",
    "        print(\"\\nInstance\", i+1 , \"is \", h)\n",
    "        print(\"Negative instance\")\n",
    "    print(\"Specific hypothesis after \", i+1, \"Instance is \", specific_h) \n",
    "print(\"\\nThe Maximally Specific hypothesis:\",specific_h)"
   ]
  },
  {
   "cell_type": "code",
   "execution_count": null,
   "id": "ac946293",
   "metadata": {},
   "outputs": [],
   "source": []
  }
 ],
 "metadata": {
  "kernelspec": {
   "display_name": "Python 3 (ipykernel)",
   "language": "python",
   "name": "python3"
  },
  "language_info": {
   "codemirror_mode": {
    "name": "ipython",
    "version": 3
   },
   "file_extension": ".py",
   "mimetype": "text/x-python",
   "name": "python",
   "nbconvert_exporter": "python",
   "pygments_lexer": "ipython3",
   "version": "3.9.6"
  }
 },
 "nbformat": 4,
 "nbformat_minor": 5
}
